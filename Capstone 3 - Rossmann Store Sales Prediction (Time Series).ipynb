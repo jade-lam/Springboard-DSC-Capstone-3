{
  "nbformat": 4,
  "nbformat_minor": 0,
  "metadata": {
    "colab": {
      "name": "Capstone 3 - Rossmann Store Sales Prediction (Time Series).ipynb",
      "provenance": [],
      "collapsed_sections": [],
      "authorship_tag": "ABX9TyOH+UvRlSdPmphDLEa/spgG"
    },
    "kernelspec": {
      "name": "python3",
      "display_name": "Python 3"
    },
    "language_info": {
      "name": "python"
    },
    "widgets": {
      "application/vnd.jupyter.widget-state+json": {
        "5d97f575a2734dbda3c09bb0b9dd193c": {
          "model_module": "@jupyter-widgets/controls",
          "model_name": "HBoxModel",
          "state": {
            "_view_name": "HBoxView",
            "_dom_classes": [],
            "_model_name": "HBoxModel",
            "_view_module": "@jupyter-widgets/controls",
            "_model_module_version": "1.5.0",
            "_view_count": null,
            "_view_module_version": "1.5.0",
            "box_style": "",
            "layout": "IPY_MODEL_354121cc089b4656a222f1966f5a6562",
            "_model_module": "@jupyter-widgets/controls",
            "children": [
              "IPY_MODEL_bbd14fae4a304eec92dc736ffd93a308",
              "IPY_MODEL_2b0d135fb10c429bb123ed78d349c452"
            ]
          }
        },
        "354121cc089b4656a222f1966f5a6562": {
          "model_module": "@jupyter-widgets/base",
          "model_name": "LayoutModel",
          "state": {
            "_view_name": "LayoutView",
            "grid_template_rows": null,
            "right": null,
            "justify_content": null,
            "_view_module": "@jupyter-widgets/base",
            "overflow": null,
            "_model_module_version": "1.2.0",
            "_view_count": null,
            "flex_flow": null,
            "width": null,
            "min_width": null,
            "border": null,
            "align_items": null,
            "bottom": null,
            "_model_module": "@jupyter-widgets/base",
            "top": null,
            "grid_column": null,
            "overflow_y": null,
            "overflow_x": null,
            "grid_auto_flow": null,
            "grid_area": null,
            "grid_template_columns": null,
            "flex": null,
            "_model_name": "LayoutModel",
            "justify_items": null,
            "grid_row": null,
            "max_height": null,
            "align_content": null,
            "visibility": null,
            "align_self": null,
            "height": null,
            "min_height": null,
            "padding": null,
            "grid_auto_rows": null,
            "grid_gap": null,
            "max_width": null,
            "order": null,
            "_view_module_version": "1.2.0",
            "grid_template_areas": null,
            "object_position": null,
            "object_fit": null,
            "grid_auto_columns": null,
            "margin": null,
            "display": null,
            "left": null
          }
        },
        "bbd14fae4a304eec92dc736ffd93a308": {
          "model_module": "@jupyter-widgets/controls",
          "model_name": "FloatProgressModel",
          "state": {
            "_view_name": "ProgressView",
            "style": "IPY_MODEL_f6fb3d5e90df464fac2cb4ba2ccc74b7",
            "_dom_classes": [],
            "description": "100%",
            "_model_name": "FloatProgressModel",
            "bar_style": "success",
            "max": 1,
            "_view_module": "@jupyter-widgets/controls",
            "_model_module_version": "1.5.0",
            "value": 1,
            "_view_count": null,
            "_view_module_version": "1.5.0",
            "orientation": "horizontal",
            "min": 0,
            "description_tooltip": null,
            "_model_module": "@jupyter-widgets/controls",
            "layout": "IPY_MODEL_9c909deb47354e759d34b2b6c9f5477f"
          }
        },
        "2b0d135fb10c429bb123ed78d349c452": {
          "model_module": "@jupyter-widgets/controls",
          "model_name": "HTMLModel",
          "state": {
            "_view_name": "HTMLView",
            "style": "IPY_MODEL_942ab2a4ed804b0b8809773b2255ac70",
            "_dom_classes": [],
            "description": "",
            "_model_name": "HTMLModel",
            "placeholder": "​",
            "_view_module": "@jupyter-widgets/controls",
            "_model_module_version": "1.5.0",
            "value": " 1/1 [04:09&lt;00:00, 249.66s/it]",
            "_view_count": null,
            "_view_module_version": "1.5.0",
            "description_tooltip": null,
            "_model_module": "@jupyter-widgets/controls",
            "layout": "IPY_MODEL_bf8a7e96593747d7952b06c87ae2e17f"
          }
        },
        "f6fb3d5e90df464fac2cb4ba2ccc74b7": {
          "model_module": "@jupyter-widgets/controls",
          "model_name": "ProgressStyleModel",
          "state": {
            "_view_name": "StyleView",
            "_model_name": "ProgressStyleModel",
            "description_width": "initial",
            "_view_module": "@jupyter-widgets/base",
            "_model_module_version": "1.5.0",
            "_view_count": null,
            "_view_module_version": "1.2.0",
            "bar_color": null,
            "_model_module": "@jupyter-widgets/controls"
          }
        },
        "9c909deb47354e759d34b2b6c9f5477f": {
          "model_module": "@jupyter-widgets/base",
          "model_name": "LayoutModel",
          "state": {
            "_view_name": "LayoutView",
            "grid_template_rows": null,
            "right": null,
            "justify_content": null,
            "_view_module": "@jupyter-widgets/base",
            "overflow": null,
            "_model_module_version": "1.2.0",
            "_view_count": null,
            "flex_flow": null,
            "width": null,
            "min_width": null,
            "border": null,
            "align_items": null,
            "bottom": null,
            "_model_module": "@jupyter-widgets/base",
            "top": null,
            "grid_column": null,
            "overflow_y": null,
            "overflow_x": null,
            "grid_auto_flow": null,
            "grid_area": null,
            "grid_template_columns": null,
            "flex": null,
            "_model_name": "LayoutModel",
            "justify_items": null,
            "grid_row": null,
            "max_height": null,
            "align_content": null,
            "visibility": null,
            "align_self": null,
            "height": null,
            "min_height": null,
            "padding": null,
            "grid_auto_rows": null,
            "grid_gap": null,
            "max_width": null,
            "order": null,
            "_view_module_version": "1.2.0",
            "grid_template_areas": null,
            "object_position": null,
            "object_fit": null,
            "grid_auto_columns": null,
            "margin": null,
            "display": null,
            "left": null
          }
        },
        "942ab2a4ed804b0b8809773b2255ac70": {
          "model_module": "@jupyter-widgets/controls",
          "model_name": "DescriptionStyleModel",
          "state": {
            "_view_name": "StyleView",
            "_model_name": "DescriptionStyleModel",
            "description_width": "",
            "_view_module": "@jupyter-widgets/base",
            "_model_module_version": "1.5.0",
            "_view_count": null,
            "_view_module_version": "1.2.0",
            "_model_module": "@jupyter-widgets/controls"
          }
        },
        "bf8a7e96593747d7952b06c87ae2e17f": {
          "model_module": "@jupyter-widgets/base",
          "model_name": "LayoutModel",
          "state": {
            "_view_name": "LayoutView",
            "grid_template_rows": null,
            "right": null,
            "justify_content": null,
            "_view_module": "@jupyter-widgets/base",
            "overflow": null,
            "_model_module_version": "1.2.0",
            "_view_count": null,
            "flex_flow": null,
            "width": null,
            "min_width": null,
            "border": null,
            "align_items": null,
            "bottom": null,
            "_model_module": "@jupyter-widgets/base",
            "top": null,
            "grid_column": null,
            "overflow_y": null,
            "overflow_x": null,
            "grid_auto_flow": null,
            "grid_area": null,
            "grid_template_columns": null,
            "flex": null,
            "_model_name": "LayoutModel",
            "justify_items": null,
            "grid_row": null,
            "max_height": null,
            "align_content": null,
            "visibility": null,
            "align_self": null,
            "height": null,
            "min_height": null,
            "padding": null,
            "grid_auto_rows": null,
            "grid_gap": null,
            "max_width": null,
            "order": null,
            "_view_module_version": "1.2.0",
            "grid_template_areas": null,
            "object_position": null,
            "object_fit": null,
            "grid_auto_columns": null,
            "margin": null,
            "display": null,
            "left": null
          }
        },
        "c443be9f9de5485fa9110ccf148e9efd": {
          "model_module": "@jupyter-widgets/controls",
          "model_name": "HBoxModel",
          "state": {
            "_view_name": "HBoxView",
            "_dom_classes": [],
            "_model_name": "HBoxModel",
            "_view_module": "@jupyter-widgets/controls",
            "_model_module_version": "1.5.0",
            "_view_count": null,
            "_view_module_version": "1.5.0",
            "box_style": "",
            "layout": "IPY_MODEL_5994f531488c407682746ae9518e58e1",
            "_model_module": "@jupyter-widgets/controls",
            "children": [
              "IPY_MODEL_f9a6ccfd9d9042659b4024a2d3863537",
              "IPY_MODEL_903b31a3d0354cb6b59810d67ba772b6"
            ]
          }
        },
        "5994f531488c407682746ae9518e58e1": {
          "model_module": "@jupyter-widgets/base",
          "model_name": "LayoutModel",
          "state": {
            "_view_name": "LayoutView",
            "grid_template_rows": null,
            "right": null,
            "justify_content": null,
            "_view_module": "@jupyter-widgets/base",
            "overflow": null,
            "_model_module_version": "1.2.0",
            "_view_count": null,
            "flex_flow": null,
            "width": null,
            "min_width": null,
            "border": null,
            "align_items": null,
            "bottom": null,
            "_model_module": "@jupyter-widgets/base",
            "top": null,
            "grid_column": null,
            "overflow_y": null,
            "overflow_x": null,
            "grid_auto_flow": null,
            "grid_area": null,
            "grid_template_columns": null,
            "flex": null,
            "_model_name": "LayoutModel",
            "justify_items": null,
            "grid_row": null,
            "max_height": null,
            "align_content": null,
            "visibility": null,
            "align_self": null,
            "height": null,
            "min_height": null,
            "padding": null,
            "grid_auto_rows": null,
            "grid_gap": null,
            "max_width": null,
            "order": null,
            "_view_module_version": "1.2.0",
            "grid_template_areas": null,
            "object_position": null,
            "object_fit": null,
            "grid_auto_columns": null,
            "margin": null,
            "display": null,
            "left": null
          }
        },
        "f9a6ccfd9d9042659b4024a2d3863537": {
          "model_module": "@jupyter-widgets/controls",
          "model_name": "FloatProgressModel",
          "state": {
            "_view_name": "ProgressView",
            "style": "IPY_MODEL_3b7f2596d2c5413283ce3e8926ad7061",
            "_dom_classes": [],
            "description": "100%",
            "_model_name": "FloatProgressModel",
            "bar_style": "success",
            "max": 1,
            "_view_module": "@jupyter-widgets/controls",
            "_model_module_version": "1.5.0",
            "value": 1,
            "_view_count": null,
            "_view_module_version": "1.5.0",
            "orientation": "horizontal",
            "min": 0,
            "description_tooltip": null,
            "_model_module": "@jupyter-widgets/controls",
            "layout": "IPY_MODEL_119d73f6d5ee4c2d99da2fc5da137808"
          }
        },
        "903b31a3d0354cb6b59810d67ba772b6": {
          "model_module": "@jupyter-widgets/controls",
          "model_name": "HTMLModel",
          "state": {
            "_view_name": "HTMLView",
            "style": "IPY_MODEL_417423f1d2b247ea8141c134513fe69b",
            "_dom_classes": [],
            "description": "",
            "_model_name": "HTMLModel",
            "placeholder": "​",
            "_view_module": "@jupyter-widgets/controls",
            "_model_module_version": "1.5.0",
            "value": " 1/1 [1:14:17&lt;00:00, 4457.34s/it]",
            "_view_count": null,
            "_view_module_version": "1.5.0",
            "description_tooltip": null,
            "_model_module": "@jupyter-widgets/controls",
            "layout": "IPY_MODEL_febd924ff38f451c96e77e602491f45e"
          }
        },
        "3b7f2596d2c5413283ce3e8926ad7061": {
          "model_module": "@jupyter-widgets/controls",
          "model_name": "ProgressStyleModel",
          "state": {
            "_view_name": "StyleView",
            "_model_name": "ProgressStyleModel",
            "description_width": "initial",
            "_view_module": "@jupyter-widgets/base",
            "_model_module_version": "1.5.0",
            "_view_count": null,
            "_view_module_version": "1.2.0",
            "bar_color": null,
            "_model_module": "@jupyter-widgets/controls"
          }
        },
        "119d73f6d5ee4c2d99da2fc5da137808": {
          "model_module": "@jupyter-widgets/base",
          "model_name": "LayoutModel",
          "state": {
            "_view_name": "LayoutView",
            "grid_template_rows": null,
            "right": null,
            "justify_content": null,
            "_view_module": "@jupyter-widgets/base",
            "overflow": null,
            "_model_module_version": "1.2.0",
            "_view_count": null,
            "flex_flow": null,
            "width": null,
            "min_width": null,
            "border": null,
            "align_items": null,
            "bottom": null,
            "_model_module": "@jupyter-widgets/base",
            "top": null,
            "grid_column": null,
            "overflow_y": null,
            "overflow_x": null,
            "grid_auto_flow": null,
            "grid_area": null,
            "grid_template_columns": null,
            "flex": null,
            "_model_name": "LayoutModel",
            "justify_items": null,
            "grid_row": null,
            "max_height": null,
            "align_content": null,
            "visibility": null,
            "align_self": null,
            "height": null,
            "min_height": null,
            "padding": null,
            "grid_auto_rows": null,
            "grid_gap": null,
            "max_width": null,
            "order": null,
            "_view_module_version": "1.2.0",
            "grid_template_areas": null,
            "object_position": null,
            "object_fit": null,
            "grid_auto_columns": null,
            "margin": null,
            "display": null,
            "left": null
          }
        },
        "417423f1d2b247ea8141c134513fe69b": {
          "model_module": "@jupyter-widgets/controls",
          "model_name": "DescriptionStyleModel",
          "state": {
            "_view_name": "StyleView",
            "_model_name": "DescriptionStyleModel",
            "description_width": "",
            "_view_module": "@jupyter-widgets/base",
            "_model_module_version": "1.5.0",
            "_view_count": null,
            "_view_module_version": "1.2.0",
            "_model_module": "@jupyter-widgets/controls"
          }
        },
        "febd924ff38f451c96e77e602491f45e": {
          "model_module": "@jupyter-widgets/base",
          "model_name": "LayoutModel",
          "state": {
            "_view_name": "LayoutView",
            "grid_template_rows": null,
            "right": null,
            "justify_content": null,
            "_view_module": "@jupyter-widgets/base",
            "overflow": null,
            "_model_module_version": "1.2.0",
            "_view_count": null,
            "flex_flow": null,
            "width": null,
            "min_width": null,
            "border": null,
            "align_items": null,
            "bottom": null,
            "_model_module": "@jupyter-widgets/base",
            "top": null,
            "grid_column": null,
            "overflow_y": null,
            "overflow_x": null,
            "grid_auto_flow": null,
            "grid_area": null,
            "grid_template_columns": null,
            "flex": null,
            "_model_name": "LayoutModel",
            "justify_items": null,
            "grid_row": null,
            "max_height": null,
            "align_content": null,
            "visibility": null,
            "align_self": null,
            "height": null,
            "min_height": null,
            "padding": null,
            "grid_auto_rows": null,
            "grid_gap": null,
            "max_width": null,
            "order": null,
            "_view_module_version": "1.2.0",
            "grid_template_areas": null,
            "object_position": null,
            "object_fit": null,
            "grid_auto_columns": null,
            "margin": null,
            "display": null,
            "left": null
          }
        }
      }
    }
  },
  "cells": [
    {
      "cell_type": "markdown",
      "metadata": {
        "id": "-DkD84luxbJQ"
      },
      "source": [
        "## Capstone 3 - Rossmann Store Sales Prediction (Time Series Analysis)"
      ]
    },
    {
      "cell_type": "markdown",
      "metadata": {
        "id": "fpLrS-Qwxeeq"
      },
      "source": [
        "Rossmann operates over 3,000 drug stores in 7 European countries. The Objectives of this project is to analyze Rossmann's store profile and sales data, build a model to predict their daily sales for up to six weeks in advance. <br><br>\n",
        "An accompanying analysis and building a regression model for prediction can be found at this [link](https://github.com/jade-lam/Springboard-DSC-Capstone-3/blob/main/Capstone%203%20-%20Rossmann%20Store%20Sales%20Prediction%20(Regression).ipynb). The focus of this workbook is to examine Rossmann's store sales prediction as a time-series problem.  "
      ]
    },
    {
      "cell_type": "code",
      "metadata": {
        "id": "knwZQrF05Ba8"
      },
      "source": [
        "#!pip install Prophet"
      ],
      "execution_count": null,
      "outputs": []
    },
    {
      "cell_type": "code",
      "metadata": {
        "id": "og6-HdbLxVmT",
        "colab": {
          "base_uri": "https://localhost:8080/"
        },
        "outputId": "8ab72aef-86d5-4a02-e318-2c232e384583"
      },
      "source": [
        "import pandas as pd\n",
        "import numpy as np\n",
        "import matplotlib.pyplot as plt\n",
        "import seaborn as sns\n",
        "import pandas.testing as tm\n",
        "from pandas.plotting import autocorrelation_plot\n",
        "\n",
        "import statsmodels.api as sm\n",
        "from statsmodels.distributions.empirical_distribution import ECDF\n",
        "from statsmodels.tsa.seasonal import seasonal_decompose\n",
        "from statsmodels.graphics.tsaplots import plot_acf, plot_pacf\n",
        "from statsmodels.tsa.arima_model import ARIMA\n",
        "\n",
        "from fbprophet import Prophet\n",
        "\n",
        "from fbprophet.diagnostics import cross_validation\n",
        "from fbprophet.diagnostics import performance_metrics\n",
        "from fbprophet.plot import plot_cross_validation_metric\n",
        "import itertools\n",
        "\n",
        "from sklearn import preprocessing\n",
        "from sklearn.model_selection import train_test_split, GridSearchCV, RandomizedSearchCV\n",
        "\n",
        "import warnings\n",
        "warnings.filterwarnings('ignore')\n",
        "pd.options.display.float_format = '{:,.2f}'.format\n",
        "sns.set_style(\"whitegrid\")"
      ],
      "execution_count": 2,
      "outputs": [
        {
          "output_type": "stream",
          "text": [
            "/usr/local/lib/python3.7/dist-packages/statsmodels/tools/_testing.py:19: FutureWarning: pandas.util.testing is deprecated. Use the functions in the public API at pandas.testing instead.\n",
            "  import pandas.util.testing as tm\n"
          ],
          "name": "stderr"
        }
      ]
    },
    {
      "cell_type": "code",
      "metadata": {
        "colab": {
          "base_uri": "https://localhost:8080/"
        },
        "id": "geUK64Evz_cU",
        "outputId": "36ce8cd9-e338-4736-e46d-480ddbdc3468"
      },
      "source": [
        "from google.colab import drive\n",
        "drive.mount('/content/drive')"
      ],
      "execution_count": 3,
      "outputs": [
        {
          "output_type": "stream",
          "text": [
            "Mounted at /content/drive\n"
          ],
          "name": "stdout"
        }
      ]
    },
    {
      "cell_type": "markdown",
      "metadata": {
        "id": "xWVji_Wo0W-d"
      },
      "source": [
        "## 1) Loading the Dataset"
      ]
    },
    {
      "cell_type": "code",
      "metadata": {
        "id": "ZWHmjzv_0cUh"
      },
      "source": [
        "#url to each dataset\n",
        "store_raw = '/content/drive/MyDrive/Colab Notebooks/Springboard - Data Science Career Track/24.4 - Capstone 3 - Rossmann Store Sales/store.csv'\n",
        "test_raw = '/content/drive/MyDrive/Colab Notebooks/Springboard - Data Science Career Track/24.4 - Capstone 3 - Rossmann Store Sales/test.csv'\n",
        "train_raw = '/content/drive/MyDrive/Colab Notebooks/Springboard - Data Science Career Track/24.4 - Capstone 3 - Rossmann Store Sales/train.csv'"
      ],
      "execution_count": 4,
      "outputs": []
    },
    {
      "cell_type": "code",
      "metadata": {
        "id": "Ib1e5CL70f-Y"
      },
      "source": [
        "# loading the data \n",
        "store = pd.read_csv(store_raw, low_memory=False)\n",
        "train = pd.read_csv(train_raw, parse_dates=['Date'], low_memory=False)\n",
        "test = pd.read_csv(test_raw, low_memory=False)"
      ],
      "execution_count": 5,
      "outputs": []
    },
    {
      "cell_type": "code",
      "metadata": {
        "colab": {
          "base_uri": "https://localhost:8080/",
          "height": 161
        },
        "id": "Y6zCPnbs0kwA",
        "outputId": "9ce8cbfc-23be-4ef6-8216-5bf84bf55426"
      },
      "source": [
        "# examining the training dataset\n",
        "print(\"length/ features :\", train.shape)\n",
        "train.head(3)"
      ],
      "execution_count": 6,
      "outputs": [
        {
          "output_type": "stream",
          "text": [
            "length/ features : (1017209, 9)\n"
          ],
          "name": "stdout"
        },
        {
          "output_type": "execute_result",
          "data": {
            "text/html": [
              "<div>\n",
              "<style scoped>\n",
              "    .dataframe tbody tr th:only-of-type {\n",
              "        vertical-align: middle;\n",
              "    }\n",
              "\n",
              "    .dataframe tbody tr th {\n",
              "        vertical-align: top;\n",
              "    }\n",
              "\n",
              "    .dataframe thead th {\n",
              "        text-align: right;\n",
              "    }\n",
              "</style>\n",
              "<table border=\"1\" class=\"dataframe\">\n",
              "  <thead>\n",
              "    <tr style=\"text-align: right;\">\n",
              "      <th></th>\n",
              "      <th>Store</th>\n",
              "      <th>DayOfWeek</th>\n",
              "      <th>Date</th>\n",
              "      <th>Sales</th>\n",
              "      <th>Customers</th>\n",
              "      <th>Open</th>\n",
              "      <th>Promo</th>\n",
              "      <th>StateHoliday</th>\n",
              "      <th>SchoolHoliday</th>\n",
              "    </tr>\n",
              "  </thead>\n",
              "  <tbody>\n",
              "    <tr>\n",
              "      <th>0</th>\n",
              "      <td>1</td>\n",
              "      <td>5</td>\n",
              "      <td>2015-07-31</td>\n",
              "      <td>5263</td>\n",
              "      <td>555</td>\n",
              "      <td>1</td>\n",
              "      <td>1</td>\n",
              "      <td>0</td>\n",
              "      <td>1</td>\n",
              "    </tr>\n",
              "    <tr>\n",
              "      <th>1</th>\n",
              "      <td>2</td>\n",
              "      <td>5</td>\n",
              "      <td>2015-07-31</td>\n",
              "      <td>6064</td>\n",
              "      <td>625</td>\n",
              "      <td>1</td>\n",
              "      <td>1</td>\n",
              "      <td>0</td>\n",
              "      <td>1</td>\n",
              "    </tr>\n",
              "    <tr>\n",
              "      <th>2</th>\n",
              "      <td>3</td>\n",
              "      <td>5</td>\n",
              "      <td>2015-07-31</td>\n",
              "      <td>8314</td>\n",
              "      <td>821</td>\n",
              "      <td>1</td>\n",
              "      <td>1</td>\n",
              "      <td>0</td>\n",
              "      <td>1</td>\n",
              "    </tr>\n",
              "  </tbody>\n",
              "</table>\n",
              "</div>"
            ],
            "text/plain": [
              "   Store  DayOfWeek       Date  Sales  ...  Open  Promo  StateHoliday SchoolHoliday\n",
              "0      1          5 2015-07-31   5263  ...     1      1             0             1\n",
              "1      2          5 2015-07-31   6064  ...     1      1             0             1\n",
              "2      3          5 2015-07-31   8314  ...     1      1             0             1\n",
              "\n",
              "[3 rows x 9 columns]"
            ]
          },
          "metadata": {
            "tags": []
          },
          "execution_count": 6
        }
      ]
    },
    {
      "cell_type": "markdown",
      "metadata": {
        "id": "Gu22IyKP0q1N"
      },
      "source": [
        "##2) Building the Data for Time Series Analysis "
      ]
    },
    {
      "cell_type": "code",
      "metadata": {
        "colab": {
          "base_uri": "https://localhost:8080/",
          "height": 206
        },
        "id": "8QlTnV7a1Amd",
        "outputId": "7e552e7c-8632-41b8-e937-956466fb2d98"
      },
      "source": [
        "#aggregating sales by date\n",
        "salbydate = pd.pivot_table(train,index=['Date'],values=['Sales'],aggfunc=sum).reset_index()\n",
        "salbydate = salbydate.rename(columns={'Date': 'ds', 'Sales': 'y'})\n",
        "salbydate.head()"
      ],
      "execution_count": 7,
      "outputs": [
        {
          "output_type": "execute_result",
          "data": {
            "text/html": [
              "<div>\n",
              "<style scoped>\n",
              "    .dataframe tbody tr th:only-of-type {\n",
              "        vertical-align: middle;\n",
              "    }\n",
              "\n",
              "    .dataframe tbody tr th {\n",
              "        vertical-align: top;\n",
              "    }\n",
              "\n",
              "    .dataframe thead th {\n",
              "        text-align: right;\n",
              "    }\n",
              "</style>\n",
              "<table border=\"1\" class=\"dataframe\">\n",
              "  <thead>\n",
              "    <tr style=\"text-align: right;\">\n",
              "      <th></th>\n",
              "      <th>ds</th>\n",
              "      <th>y</th>\n",
              "    </tr>\n",
              "  </thead>\n",
              "  <tbody>\n",
              "    <tr>\n",
              "      <th>0</th>\n",
              "      <td>2013-01-01</td>\n",
              "      <td>97235</td>\n",
              "    </tr>\n",
              "    <tr>\n",
              "      <th>1</th>\n",
              "      <td>2013-01-02</td>\n",
              "      <td>6949829</td>\n",
              "    </tr>\n",
              "    <tr>\n",
              "      <th>2</th>\n",
              "      <td>2013-01-03</td>\n",
              "      <td>6347820</td>\n",
              "    </tr>\n",
              "    <tr>\n",
              "      <th>3</th>\n",
              "      <td>2013-01-04</td>\n",
              "      <td>6638954</td>\n",
              "    </tr>\n",
              "    <tr>\n",
              "      <th>4</th>\n",
              "      <td>2013-01-05</td>\n",
              "      <td>5951593</td>\n",
              "    </tr>\n",
              "  </tbody>\n",
              "</table>\n",
              "</div>"
            ],
            "text/plain": [
              "          ds        y\n",
              "0 2013-01-01    97235\n",
              "1 2013-01-02  6949829\n",
              "2 2013-01-03  6347820\n",
              "3 2013-01-04  6638954\n",
              "4 2013-01-05  5951593"
            ]
          },
          "metadata": {
            "tags": []
          },
          "execution_count": 7
        }
      ]
    },
    {
      "cell_type": "code",
      "metadata": {
        "colab": {
          "base_uri": "https://localhost:8080/"
        },
        "id": "6fH712b2QFvP",
        "outputId": "f8cc8e65-bcbd-4cf7-98a5-c3ef5f765003"
      },
      "source": [
        "#date range of the dataset\n",
        "print('date range of the dataset:', salbydate['ds'].min(), 'to', salbydate['ds'].max())"
      ],
      "execution_count": 8,
      "outputs": [
        {
          "output_type": "stream",
          "text": [
            "date range of the dataset: 2013-01-01 00:00:00 to 2015-07-31 00:00:00\n"
          ],
          "name": "stdout"
        }
      ]
    },
    {
      "cell_type": "code",
      "metadata": {
        "colab": {
          "base_uri": "https://localhost:8080/",
          "height": 325
        },
        "id": "musCtLd76hCh",
        "outputId": "630be68b-b638-4609-8272-18b75472ba15"
      },
      "source": [
        "salbydate.plot(x='ds', y='y', title='Aggregated Sales by Date', figsize=[16, 4])"
      ],
      "execution_count": 9,
      "outputs": [
        {
          "output_type": "execute_result",
          "data": {
            "text/plain": [
              "<matplotlib.axes._subplots.AxesSubplot at 0x7f1640368850>"
            ]
          },
          "metadata": {
            "tags": []
          },
          "execution_count": 9
        },
        {
          "output_type": "display_data",
          "data": {
            "image/png": "[encoded data removed]",
            "text/plain": [
              "<Figure size 1152x288 with 1 Axes>"
            ]
          },
          "metadata": {
            "tags": []
          }
        }
      ]
    },
    {
      "cell_type": "markdown",
      "metadata": {
        "id": "SMoSrYxn78RD"
      },
      "source": [
        "##3) Pre-Processing"
      ]
    },
    {
      "cell_type": "code",
      "metadata": {
        "id": "PdC1QmRm7OKv"
      },
      "source": [
        "# getting the train/test split (75/25)\n",
        "test_length = 705\n",
        "df_train = salbydate.iloc[0:test_length]\n",
        "df_test = salbydate.iloc[test_length:-1]"
      ],
      "execution_count": 10,
      "outputs": []
    },
    {
      "cell_type": "code",
      "metadata": {
        "colab": {
          "base_uri": "https://localhost:8080/"
        },
        "id": "GowFWtTpIuVd",
        "outputId": "c31ed013-a2ea-47e2-c2f1-440433cdc863"
      },
      "source": [
        "df_train.shape, df_test.shape"
      ],
      "execution_count": 11,
      "outputs": [
        {
          "output_type": "execute_result",
          "data": {
            "text/plain": [
              "((705, 2), (236, 2))"
            ]
          },
          "metadata": {
            "tags": []
          },
          "execution_count": 11
        }
      ]
    },
    {
      "cell_type": "code",
      "metadata": {
        "colab": {
          "base_uri": "https://localhost:8080/"
        },
        "id": "XeK4oafyUaf6",
        "outputId": "fe246362-c6e2-4fad-e4a5-7955d1151db0"
      },
      "source": [
        "#start/end dates of the training & testing sets\n",
        "print('date range of the traiing data:', df_train['ds'].min(), 'to', df_train['ds'].max())\n",
        "print('date range of the testing data:', df_test['ds'].min(), 'to', df_test['ds'].max())"
      ],
      "execution_count": 12,
      "outputs": [
        {
          "output_type": "stream",
          "text": [
            "date range of the traiing data: 2013-01-01 00:00:00 to 2014-12-06 00:00:00\n",
            "date range of the testing data: 2014-12-07 00:00:00 to 2015-07-30 00:00:00\n"
          ],
          "name": "stdout"
        }
      ]
    },
    {
      "cell_type": "markdown",
      "metadata": {
        "id": "wsj-7ji68Bf6"
      },
      "source": [
        "##4) Modelling"
      ]
    },
    {
      "cell_type": "markdown",
      "metadata": {
        "id": "PZ8HeDlxFoxG"
      },
      "source": [
        "4.1) Prophet Model"
      ]
    },
    {
      "cell_type": "code",
      "metadata": {
        "id": "9MVkp8viFofX"
      },
      "source": [
        "p = Prophet(daily_seasonality=True, yearly_seasonality=True, seasonality_mode='multiplicative')\n",
        "p_model = p.fit(df_train)"
      ],
      "execution_count": 13,
      "outputs": []
    },
    {
      "cell_type": "code",
      "metadata": {
        "id": "do9qMeyyF8wF"
      },
      "source": [
        "future_p_df = p.make_future_dataframe(periods=236, freq='D')\n",
        "forecast = p.predict(future_p_df)"
      ],
      "execution_count": 14,
      "outputs": []
    },
    {
      "cell_type": "code",
      "metadata": {
        "colab": {
          "base_uri": "https://localhost:8080/",
          "height": 441
        },
        "id": "4lj_nqMoGVzx",
        "outputId": "c115f8aa-c4b4-4571-b436-04031bc008be"
      },
      "source": [
        "forecast_fig = p.plot(forecast)"
      ],
      "execution_count": 15,
      "outputs": [
        {
          "output_type": "display_data",
          "data": {
            "image/png": "[encoded data removed]",
            "text/plain": [
              "<Figure size 720x432 with 1 Axes>"
            ]
          },
          "metadata": {
            "tags": []
          }
        }
      ]
    },
    {
      "cell_type": "code",
      "metadata": {
        "colab": {
          "base_uri": "https://localhost:8080/",
          "height": 873
        },
        "id": "dr6-t4pXGhoA",
        "outputId": "b99dc20e-d70f-42e5-8df8-0e30efe7f982"
      },
      "source": [
        "components_fig = p.plot_components(forecast)"
      ],
      "execution_count": 16,
      "outputs": [
        {
          "output_type": "display_data",
          "data": {
            "image/png": "[encoded data removed]",
            "text/plain": [
              "<Figure size 648x864 with 4 Axes>"
            ]
          },
          "metadata": {
            "tags": []
          }
        }
      ]
    },
    {
      "cell_type": "code",
      "metadata": {
        "colab": {
          "base_uri": "https://localhost:8080/",
          "height": 206
        },
        "id": "vP9Z9n6MNn7N",
        "outputId": "477fcc8c-b075-4267-98a3-db5cccd621b7"
      },
      "source": [
        "#seeing the actual price prediction\n",
        "future_preds = forecast.loc[forecast['ds'] > '2014-12-05']\n",
        "future_preds = future_preds[['ds','yhat','yhat_lower','yhat_upper']]\n",
        "future_preds.head(5)"
      ],
      "execution_count": 17,
      "outputs": [
        {
          "output_type": "execute_result",
          "data": {
            "text/html": [
              "<div>\n",
              "<style scoped>\n",
              "    .dataframe tbody tr th:only-of-type {\n",
              "        vertical-align: middle;\n",
              "    }\n",
              "\n",
              "    .dataframe tbody tr th {\n",
              "        vertical-align: top;\n",
              "    }\n",
              "\n",
              "    .dataframe thead th {\n",
              "        text-align: right;\n",
              "    }\n",
              "</style>\n",
              "<table border=\"1\" class=\"dataframe\">\n",
              "  <thead>\n",
              "    <tr style=\"text-align: right;\">\n",
              "      <th></th>\n",
              "      <th>ds</th>\n",
              "      <th>yhat</th>\n",
              "      <th>yhat_lower</th>\n",
              "      <th>yhat_upper</th>\n",
              "    </tr>\n",
              "  </thead>\n",
              "  <tbody>\n",
              "    <tr>\n",
              "      <th>704</th>\n",
              "      <td>2014-12-06</td>\n",
              "      <td>7,459,348.51</td>\n",
              "      <td>5,302,062.56</td>\n",
              "      <td>9,705,520.95</td>\n",
              "    </tr>\n",
              "    <tr>\n",
              "      <th>705</th>\n",
              "      <td>2014-12-07</td>\n",
              "      <td>2,000,857.21</td>\n",
              "      <td>-249,079.10</td>\n",
              "      <td>4,076,734.77</td>\n",
              "    </tr>\n",
              "    <tr>\n",
              "      <th>706</th>\n",
              "      <td>2014-12-08</td>\n",
              "      <td>9,556,576.59</td>\n",
              "      <td>7,382,798.83</td>\n",
              "      <td>11,700,902.24</td>\n",
              "    </tr>\n",
              "    <tr>\n",
              "      <th>707</th>\n",
              "      <td>2014-12-09</td>\n",
              "      <td>8,688,024.02</td>\n",
              "      <td>6,318,130.74</td>\n",
              "      <td>10,751,418.41</td>\n",
              "    </tr>\n",
              "    <tr>\n",
              "      <th>708</th>\n",
              "      <td>2014-12-10</td>\n",
              "      <td>8,280,709.42</td>\n",
              "      <td>6,092,895.13</td>\n",
              "      <td>10,343,410.89</td>\n",
              "    </tr>\n",
              "  </tbody>\n",
              "</table>\n",
              "</div>"
            ],
            "text/plain": [
              "            ds         yhat   yhat_lower    yhat_upper\n",
              "704 2014-12-06 7,459,348.51 5,302,062.56  9,705,520.95\n",
              "705 2014-12-07 2,000,857.21  -249,079.10  4,076,734.77\n",
              "706 2014-12-08 9,556,576.59 7,382,798.83 11,700,902.24\n",
              "707 2014-12-09 8,688,024.02 6,318,130.74 10,751,418.41\n",
              "708 2014-12-10 8,280,709.42 6,092,895.13 10,343,410.89"
            ]
          },
          "metadata": {
            "tags": []
          },
          "execution_count": 17
        }
      ]
    },
    {
      "cell_type": "markdown",
      "metadata": {
        "id": "rp-1dGgYVCia"
      },
      "source": [
        "4.2) Cross Valiation "
      ]
    },
    {
      "cell_type": "code",
      "metadata": {
        "colab": {
          "base_uri": "https://localhost:8080/",
          "height": 490,
          "referenced_widgets": [
            "5d97f575a2734dbda3c09bb0b9dd193c",
            "354121cc089b4656a222f1966f5a6562",
            "bbd14fae4a304eec92dc736ffd93a308",
            "2b0d135fb10c429bb123ed78d349c452",
            "f6fb3d5e90df464fac2cb4ba2ccc74b7",
            "9c909deb47354e759d34b2b6c9f5477f",
            "942ab2a4ed804b0b8809773b2255ac70",
            "bf8a7e96593747d7952b06c87ae2e17f"
          ]
        },
        "id": "EcIk3oIaHTVm",
        "outputId": "b1670416-6cae-40e7-eb00-b1b0b46ff86f"
      },
      "source": [
        "#cross validation\n",
        "p_cv = cross_validation(p, initial='614 days', period='90 days', horizon = '90 days')\n",
        "df_p = performance_metrics(p_cv)\n",
        "df_p"
      ],
      "execution_count": 18,
      "outputs": [
        {
          "output_type": "stream",
          "text": [
            "INFO:fbprophet:Making 1 forecasts with cutoffs between 2014-09-07 00:00:00 and 2014-09-07 00:00:00\n"
          ],
          "name": "stderr"
        },
        {
          "output_type": "display_data",
          "data": {
            "application/vnd.jupyter.widget-view+json": {
              "model_id": "5d97f575a2734dbda3c09bb0b9dd193c",
              "version_minor": 0,
              "version_major": 2
            },
            "text/plain": [
              "HBox(children=(FloatProgress(value=0.0, max=1.0), HTML(value='')))"
            ]
          },
          "metadata": {
            "tags": []
          }
        },
        {
          "output_type": "stream",
          "text": [
            "\n"
          ],
          "name": "stdout"
        },
        {
          "output_type": "execute_result",
          "data": {
            "text/html": [
              "<div>\n",
              "<style scoped>\n",
              "    .dataframe tbody tr th:only-of-type {\n",
              "        vertical-align: middle;\n",
              "    }\n",
              "\n",
              "    .dataframe tbody tr th {\n",
              "        vertical-align: top;\n",
              "    }\n",
              "\n",
              "    .dataframe thead th {\n",
              "        text-align: right;\n",
              "    }\n",
              "</style>\n",
              "<table border=\"1\" class=\"dataframe\">\n",
              "  <thead>\n",
              "    <tr style=\"text-align: right;\">\n",
              "      <th></th>\n",
              "      <th>horizon</th>\n",
              "      <th>mse</th>\n",
              "      <th>rmse</th>\n",
              "      <th>mae</th>\n",
              "      <th>mape</th>\n",
              "      <th>mdape</th>\n",
              "      <th>coverage</th>\n",
              "    </tr>\n",
              "  </thead>\n",
              "  <tbody>\n",
              "    <tr>\n",
              "      <th>0</th>\n",
              "      <td>9 days</td>\n",
              "      <td>2,020,244,333,943.25</td>\n",
              "      <td>1,421,352.99</td>\n",
              "      <td>1,181,066.27</td>\n",
              "      <td>0.26</td>\n",
              "      <td>0.30</td>\n",
              "      <td>0.89</td>\n",
              "    </tr>\n",
              "    <tr>\n",
              "      <th>1</th>\n",
              "      <td>10 days</td>\n",
              "      <td>1,344,954,127,102.53</td>\n",
              "      <td>1,159,721.57</td>\n",
              "      <td>944,839.27</td>\n",
              "      <td>0.21</td>\n",
              "      <td>0.23</td>\n",
              "      <td>1.00</td>\n",
              "    </tr>\n",
              "    <tr>\n",
              "      <th>2</th>\n",
              "      <td>11 days</td>\n",
              "      <td>928,623,760,825.36</td>\n",
              "      <td>963,651.27</td>\n",
              "      <td>750,132.18</td>\n",
              "      <td>0.18</td>\n",
              "      <td>0.19</td>\n",
              "      <td>1.00</td>\n",
              "    </tr>\n",
              "    <tr>\n",
              "      <th>3</th>\n",
              "      <td>12 days</td>\n",
              "      <td>716,117,049,290.41</td>\n",
              "      <td>846,236.99</td>\n",
              "      <td>657,453.74</td>\n",
              "      <td>0.15</td>\n",
              "      <td>0.11</td>\n",
              "      <td>1.00</td>\n",
              "    </tr>\n",
              "    <tr>\n",
              "      <th>4</th>\n",
              "      <td>13 days</td>\n",
              "      <td>725,134,903,234.18</td>\n",
              "      <td>851,548.53</td>\n",
              "      <td>661,093.31</td>\n",
              "      <td>0.16</td>\n",
              "      <td>0.11</td>\n",
              "      <td>1.00</td>\n",
              "    </tr>\n",
              "    <tr>\n",
              "      <th>...</th>\n",
              "      <td>...</td>\n",
              "      <td>...</td>\n",
              "      <td>...</td>\n",
              "      <td>...</td>\n",
              "      <td>...</td>\n",
              "      <td>...</td>\n",
              "      <td>...</td>\n",
              "    </tr>\n",
              "    <tr>\n",
              "      <th>77</th>\n",
              "      <td>86 days</td>\n",
              "      <td>320,459,605,029.22</td>\n",
              "      <td>566,091.52</td>\n",
              "      <td>396,756.71</td>\n",
              "      <td>0.61</td>\n",
              "      <td>0.02</td>\n",
              "      <td>1.00</td>\n",
              "    </tr>\n",
              "    <tr>\n",
              "      <th>78</th>\n",
              "      <td>87 days</td>\n",
              "      <td>323,026,451,659.91</td>\n",
              "      <td>568,354.16</td>\n",
              "      <td>402,499.78</td>\n",
              "      <td>0.61</td>\n",
              "      <td>0.03</td>\n",
              "      <td>1.00</td>\n",
              "    </tr>\n",
              "    <tr>\n",
              "      <th>79</th>\n",
              "      <td>88 days</td>\n",
              "      <td>328,110,338,295.42</td>\n",
              "      <td>572,809.16</td>\n",
              "      <td>416,893.73</td>\n",
              "      <td>0.61</td>\n",
              "      <td>0.03</td>\n",
              "      <td>1.00</td>\n",
              "    </tr>\n",
              "    <tr>\n",
              "      <th>80</th>\n",
              "      <td>89 days</td>\n",
              "      <td>383,037,852,395.90</td>\n",
              "      <td>618,900.52</td>\n",
              "      <td>480,570.97</td>\n",
              "      <td>0.61</td>\n",
              "      <td>0.05</td>\n",
              "      <td>1.00</td>\n",
              "    </tr>\n",
              "    <tr>\n",
              "      <th>81</th>\n",
              "      <td>90 days</td>\n",
              "      <td>643,996,775,950.21</td>\n",
              "      <td>802,494.10</td>\n",
              "      <td>614,583.38</td>\n",
              "      <td>0.64</td>\n",
              "      <td>0.06</td>\n",
              "      <td>1.00</td>\n",
              "    </tr>\n",
              "  </tbody>\n",
              "</table>\n",
              "<p>82 rows × 7 columns</p>\n",
              "</div>"
            ],
            "text/plain": [
              "   horizon                  mse         rmse  ...  mape  mdape  coverage\n",
              "0   9 days 2,020,244,333,943.25 1,421,352.99  ...  0.26   0.30      0.89\n",
              "1  10 days 1,344,954,127,102.53 1,159,721.57  ...  0.21   0.23      1.00\n",
              "2  11 days   928,623,760,825.36   963,651.27  ...  0.18   0.19      1.00\n",
              "3  12 days   716,117,049,290.41   846,236.99  ...  0.15   0.11      1.00\n",
              "4  13 days   725,134,903,234.18   851,548.53  ...  0.16   0.11      1.00\n",
              "..     ...                  ...          ...  ...   ...    ...       ...\n",
              "77 86 days   320,459,605,029.22   566,091.52  ...  0.61   0.02      1.00\n",
              "78 87 days   323,026,451,659.91   568,354.16  ...  0.61   0.03      1.00\n",
              "79 88 days   328,110,338,295.42   572,809.16  ...  0.61   0.03      1.00\n",
              "80 89 days   383,037,852,395.90   618,900.52  ...  0.61   0.05      1.00\n",
              "81 90 days   643,996,775,950.21   802,494.10  ...  0.64   0.06      1.00\n",
              "\n",
              "[82 rows x 7 columns]"
            ]
          },
          "metadata": {
            "tags": []
          },
          "execution_count": 18
        }
      ]
    },
    {
      "cell_type": "code",
      "metadata": {
        "colab": {
          "base_uri": "https://localhost:8080/"
        },
        "id": "pOg9MffmaUzN",
        "outputId": "8f5485d0-1cdf-4a6f-acf8-6fb0356a1948"
      },
      "source": [
        "print('Avg RMSE score:', round(df_p['rmse'].mean(), 3))\n",
        "print('Avg MAPE score:', round(df_p['mape'].mean(), 3))"
      ],
      "execution_count": 19,
      "outputs": [
        {
          "output_type": "stream",
          "text": [
            "Avg RMSE score: 1276673.551\n",
            "Avg MAPE score: 0.566\n"
          ],
          "name": "stdout"
        }
      ]
    },
    {
      "cell_type": "code",
      "metadata": {
        "colab": {
          "base_uri": "https://localhost:8080/",
          "height": 388
        },
        "id": "oMp0orwMJrQs",
        "outputId": "30cb79d8-1dbb-4db3-9004-201c0fa3afe9"
      },
      "source": [
        "p_cv_metrics = plot_cross_validation_metric(p_cv, metric='mape')"
      ],
      "execution_count": 20,
      "outputs": [
        {
          "output_type": "display_data",
          "data": {
            "image/png": "[encoded data removed]",
            "text/plain": [
              "<Figure size 720x432 with 1 Axes>"
            ]
          },
          "metadata": {
            "tags": []
          }
        }
      ]
    },
    {
      "cell_type": "markdown",
      "metadata": {
        "id": "ZR9lLvYI8Xbi"
      },
      "source": [
        "##5) Model Evaluation & Optimization"
      ]
    },
    {
      "cell_type": "markdown",
      "metadata": {
        "id": "ea2ZENpDVp1m"
      },
      "source": [
        "5.1) Hyperparameters Tuning"
      ]
    },
    {
      "cell_type": "code",
      "metadata": {
        "id": "E_HeFR0J8JML"
      },
      "source": [
        "param_grid = {  \n",
        "    'changepoint_prior_scale': [0.1, 0.5, 5],\n",
        "    'seasonality_prior_scale': [0.1, 1.0, 5],\n",
        "    'holidays_prior_scale':[0.1, 1, 5],\n",
        "}\n",
        "\n",
        "# Generate all combinations of parameters\n",
        "all_params = [dict(zip(param_grid.keys(), v)) for v in itertools.product(*param_grid.values())]\n",
        "rmses = []  # Store the RMSEs for each params here"
      ],
      "execution_count": 21,
      "outputs": []
    },
    {
      "cell_type": "code",
      "metadata": {
        "colab": {
          "base_uri": "https://localhost:8080/"
        },
        "id": "JHM5s3eaFCMT",
        "outputId": "8f2d845b-d22b-4df4-af35-3d836f376e9e"
      },
      "source": [
        "# Use cross validation to evaluate all parameters\n",
        "for params in all_params:\n",
        "    m = Prophet(**params).fit(df_train)  # Fit model with given params\n",
        "    df_cv1 = cross_validation(m, period='90 days', horizon='90 days', parallel=\"processes\")\n",
        "    df_p1 = performance_metrics(df_cv1, rolling_window=1)\n",
        "    rmses.append(df_p['rmse'].values[0])\n",
        "\n",
        "# Find the best parameters\n",
        "tuning_results = pd.DataFrame(all_params)\n",
        "tuning_results['rmse'] = rmses\n",
        "print(tuning_results)"
      ],
      "execution_count": 22,
      "outputs": [
        {
          "output_type": "stream",
          "text": [
            "INFO:fbprophet:Disabling yearly seasonality. Run prophet with yearly_seasonality=True to override this.\n",
            "INFO:fbprophet:Disabling daily seasonality. Run prophet with daily_seasonality=True to override this.\n",
            "INFO:fbprophet:Making 4 forecasts with cutoffs between 2013-12-11 00:00:00 and 2014-09-07 00:00:00\n",
            "INFO:fbprophet:Applying in parallel with <concurrent.futures.process.ProcessPoolExecutor object at 0x7f1643d81190>\n",
            "INFO:fbprophet:Disabling yearly seasonality. Run prophet with yearly_seasonality=True to override this.\n",
            "INFO:fbprophet:Disabling daily seasonality. Run prophet with daily_seasonality=True to override this.\n",
            "INFO:fbprophet:Making 4 forecasts with cutoffs between 2013-12-11 00:00:00 and 2014-09-07 00:00:00\n",
            "INFO:fbprophet:Applying in parallel with <concurrent.futures.process.ProcessPoolExecutor object at 0x7f163c9fee50>\n",
            "INFO:fbprophet:Disabling yearly seasonality. Run prophet with yearly_seasonality=True to override this.\n",
            "INFO:fbprophet:Disabling daily seasonality. Run prophet with daily_seasonality=True to override this.\n",
            "INFO:fbprophet:Making 4 forecasts with cutoffs between 2013-12-11 00:00:00 and 2014-09-07 00:00:00\n",
            "INFO:fbprophet:Applying in parallel with <concurrent.futures.process.ProcessPoolExecutor object at 0x7f163ca53f90>\n",
            "INFO:fbprophet:Disabling yearly seasonality. Run prophet with yearly_seasonality=True to override this.\n",
            "INFO:fbprophet:Disabling daily seasonality. Run prophet with daily_seasonality=True to override this.\n",
            "INFO:fbprophet:Making 4 forecasts with cutoffs between 2013-12-11 00:00:00 and 2014-09-07 00:00:00\n",
            "INFO:fbprophet:Applying in parallel with <concurrent.futures.process.ProcessPoolExecutor object at 0x7f1633655910>\n",
            "INFO:fbprophet:Disabling yearly seasonality. Run prophet with yearly_seasonality=True to override this.\n",
            "INFO:fbprophet:Disabling daily seasonality. Run prophet with daily_seasonality=True to override this.\n",
            "INFO:fbprophet:Making 4 forecasts with cutoffs between 2013-12-11 00:00:00 and 2014-09-07 00:00:00\n",
            "INFO:fbprophet:Applying in parallel with <concurrent.futures.process.ProcessPoolExecutor object at 0x7f1633798e50>\n",
            "INFO:fbprophet:Disabling yearly seasonality. Run prophet with yearly_seasonality=True to override this.\n",
            "INFO:fbprophet:Disabling daily seasonality. Run prophet with daily_seasonality=True to override this.\n",
            "INFO:fbprophet:Making 4 forecasts with cutoffs between 2013-12-11 00:00:00 and 2014-09-07 00:00:00\n",
            "INFO:fbprophet:Applying in parallel with <concurrent.futures.process.ProcessPoolExecutor object at 0x7f1661073810>\n",
            "INFO:fbprophet:Disabling yearly seasonality. Run prophet with yearly_seasonality=True to override this.\n",
            "INFO:fbprophet:Disabling daily seasonality. Run prophet with daily_seasonality=True to override this.\n",
            "INFO:fbprophet:Making 4 forecasts with cutoffs between 2013-12-11 00:00:00 and 2014-09-07 00:00:00\n",
            "INFO:fbprophet:Applying in parallel with <concurrent.futures.process.ProcessPoolExecutor object at 0x7f163c9ca910>\n",
            "INFO:fbprophet:Disabling yearly seasonality. Run prophet with yearly_seasonality=True to override this.\n",
            "INFO:fbprophet:Disabling daily seasonality. Run prophet with daily_seasonality=True to override this.\n",
            "INFO:fbprophet:Making 4 forecasts with cutoffs between 2013-12-11 00:00:00 and 2014-09-07 00:00:00\n",
            "INFO:fbprophet:Applying in parallel with <concurrent.futures.process.ProcessPoolExecutor object at 0x7f1633744950>\n",
            "INFO:fbprophet:Disabling yearly seasonality. Run prophet with yearly_seasonality=True to override this.\n",
            "INFO:fbprophet:Disabling daily seasonality. Run prophet with daily_seasonality=True to override this.\n",
            "INFO:fbprophet:Making 4 forecasts with cutoffs between 2013-12-11 00:00:00 and 2014-09-07 00:00:00\n",
            "INFO:fbprophet:Applying in parallel with <concurrent.futures.process.ProcessPoolExecutor object at 0x7f163378da50>\n",
            "INFO:fbprophet:Disabling yearly seasonality. Run prophet with yearly_seasonality=True to override this.\n",
            "INFO:fbprophet:Disabling daily seasonality. Run prophet with daily_seasonality=True to override this.\n",
            "INFO:fbprophet:Making 4 forecasts with cutoffs between 2013-12-11 00:00:00 and 2014-09-07 00:00:00\n",
            "INFO:fbprophet:Applying in parallel with <concurrent.futures.process.ProcessPoolExecutor object at 0x7f163ffd88d0>\n",
            "INFO:fbprophet:Disabling yearly seasonality. Run prophet with yearly_seasonality=True to override this.\n",
            "INFO:fbprophet:Disabling daily seasonality. Run prophet with daily_seasonality=True to override this.\n",
            "INFO:fbprophet:Making 4 forecasts with cutoffs between 2013-12-11 00:00:00 and 2014-09-07 00:00:00\n",
            "INFO:fbprophet:Applying in parallel with <concurrent.futures.process.ProcessPoolExecutor object at 0x7f1633766210>\n",
            "INFO:fbprophet:Disabling yearly seasonality. Run prophet with yearly_seasonality=True to override this.\n",
            "INFO:fbprophet:Disabling daily seasonality. Run prophet with daily_seasonality=True to override this.\n",
            "INFO:fbprophet:Making 4 forecasts with cutoffs between 2013-12-11 00:00:00 and 2014-09-07 00:00:00\n",
            "INFO:fbprophet:Applying in parallel with <concurrent.futures.process.ProcessPoolExecutor object at 0x7f1633798890>\n",
            "INFO:fbprophet:Disabling yearly seasonality. Run prophet with yearly_seasonality=True to override this.\n",
            "INFO:fbprophet:Disabling daily seasonality. Run prophet with daily_seasonality=True to override this.\n",
            "INFO:fbprophet:Making 4 forecasts with cutoffs between 2013-12-11 00:00:00 and 2014-09-07 00:00:00\n",
            "INFO:fbprophet:Applying in parallel with <concurrent.futures.process.ProcessPoolExecutor object at 0x7f1633750b10>\n",
            "INFO:fbprophet:Disabling yearly seasonality. Run prophet with yearly_seasonality=True to override this.\n",
            "INFO:fbprophet:Disabling daily seasonality. Run prophet with daily_seasonality=True to override this.\n",
            "INFO:fbprophet:Making 4 forecasts with cutoffs between 2013-12-11 00:00:00 and 2014-09-07 00:00:00\n",
            "INFO:fbprophet:Applying in parallel with <concurrent.futures.process.ProcessPoolExecutor object at 0x7f1633624250>\n",
            "INFO:fbprophet:Disabling yearly seasonality. Run prophet with yearly_seasonality=True to override this.\n",
            "INFO:fbprophet:Disabling daily seasonality. Run prophet with daily_seasonality=True to override this.\n",
            "INFO:fbprophet:Making 4 forecasts with cutoffs between 2013-12-11 00:00:00 and 2014-09-07 00:00:00\n",
            "INFO:fbprophet:Applying in parallel with <concurrent.futures.process.ProcessPoolExecutor object at 0x7f16337649d0>\n",
            "INFO:fbprophet:Disabling yearly seasonality. Run prophet with yearly_seasonality=True to override this.\n",
            "INFO:fbprophet:Disabling daily seasonality. Run prophet with daily_seasonality=True to override this.\n",
            "INFO:fbprophet:Making 4 forecasts with cutoffs between 2013-12-11 00:00:00 and 2014-09-07 00:00:00\n",
            "INFO:fbprophet:Applying in parallel with <concurrent.futures.process.ProcessPoolExecutor object at 0x7f163379c450>\n",
            "INFO:fbprophet:Disabling yearly seasonality. Run prophet with yearly_seasonality=True to override this.\n",
            "INFO:fbprophet:Disabling daily seasonality. Run prophet with daily_seasonality=True to override this.\n",
            "INFO:fbprophet:Making 4 forecasts with cutoffs between 2013-12-11 00:00:00 and 2014-09-07 00:00:00\n",
            "INFO:fbprophet:Applying in parallel with <concurrent.futures.process.ProcessPoolExecutor object at 0x7f16337987d0>\n",
            "INFO:fbprophet:Disabling yearly seasonality. Run prophet with yearly_seasonality=True to override this.\n",
            "INFO:fbprophet:Disabling daily seasonality. Run prophet with daily_seasonality=True to override this.\n",
            "INFO:fbprophet:Making 4 forecasts with cutoffs between 2013-12-11 00:00:00 and 2014-09-07 00:00:00\n",
            "INFO:fbprophet:Applying in parallel with <concurrent.futures.process.ProcessPoolExecutor object at 0x7f1633798650>\n",
            "INFO:fbprophet:Disabling yearly seasonality. Run prophet with yearly_seasonality=True to override this.\n",
            "INFO:fbprophet:Disabling daily seasonality. Run prophet with daily_seasonality=True to override this.\n",
            "INFO:fbprophet:Making 4 forecasts with cutoffs between 2013-12-11 00:00:00 and 2014-09-07 00:00:00\n",
            "INFO:fbprophet:Applying in parallel with <concurrent.futures.process.ProcessPoolExecutor object at 0x7f1633624250>\n",
            "INFO:fbprophet:Disabling yearly seasonality. Run prophet with yearly_seasonality=True to override this.\n",
            "INFO:fbprophet:Disabling daily seasonality. Run prophet with daily_seasonality=True to override this.\n",
            "INFO:fbprophet:Making 4 forecasts with cutoffs between 2013-12-11 00:00:00 and 2014-09-07 00:00:00\n",
            "INFO:fbprophet:Applying in parallel with <concurrent.futures.process.ProcessPoolExecutor object at 0x7f16337ccf10>\n",
            "INFO:fbprophet:Disabling yearly seasonality. Run prophet with yearly_seasonality=True to override this.\n",
            "INFO:fbprophet:Disabling daily seasonality. Run prophet with daily_seasonality=True to override this.\n",
            "INFO:fbprophet:Making 4 forecasts with cutoffs between 2013-12-11 00:00:00 and 2014-09-07 00:00:00\n",
            "INFO:fbprophet:Applying in parallel with <concurrent.futures.process.ProcessPoolExecutor object at 0x7f1633766210>\n",
            "INFO:fbprophet:Disabling yearly seasonality. Run prophet with yearly_seasonality=True to override this.\n",
            "INFO:fbprophet:Disabling daily seasonality. Run prophet with daily_seasonality=True to override this.\n",
            "INFO:fbprophet:Making 4 forecasts with cutoffs between 2013-12-11 00:00:00 and 2014-09-07 00:00:00\n",
            "INFO:fbprophet:Applying in parallel with <concurrent.futures.process.ProcessPoolExecutor object at 0x7f163c9fee50>\n",
            "INFO:fbprophet:Disabling yearly seasonality. Run prophet with yearly_seasonality=True to override this.\n",
            "INFO:fbprophet:Disabling daily seasonality. Run prophet with daily_seasonality=True to override this.\n",
            "INFO:fbprophet:Making 4 forecasts with cutoffs between 2013-12-11 00:00:00 and 2014-09-07 00:00:00\n",
            "INFO:fbprophet:Applying in parallel with <concurrent.futures.process.ProcessPoolExecutor object at 0x7f1633764210>\n",
            "INFO:fbprophet:Disabling yearly seasonality. Run prophet with yearly_seasonality=True to override this.\n",
            "INFO:fbprophet:Disabling daily seasonality. Run prophet with daily_seasonality=True to override this.\n",
            "INFO:fbprophet:Making 4 forecasts with cutoffs between 2013-12-11 00:00:00 and 2014-09-07 00:00:00\n",
            "INFO:fbprophet:Applying in parallel with <concurrent.futures.process.ProcessPoolExecutor object at 0x7f1633736a10>\n",
            "INFO:fbprophet:Disabling yearly seasonality. Run prophet with yearly_seasonality=True to override this.\n",
            "INFO:fbprophet:Disabling daily seasonality. Run prophet with daily_seasonality=True to override this.\n",
            "INFO:fbprophet:Making 4 forecasts with cutoffs between 2013-12-11 00:00:00 and 2014-09-07 00:00:00\n",
            "INFO:fbprophet:Applying in parallel with <concurrent.futures.process.ProcessPoolExecutor object at 0x7f1633665150>\n",
            "INFO:fbprophet:Disabling yearly seasonality. Run prophet with yearly_seasonality=True to override this.\n",
            "INFO:fbprophet:Disabling daily seasonality. Run prophet with daily_seasonality=True to override this.\n",
            "INFO:fbprophet:Making 4 forecasts with cutoffs between 2013-12-11 00:00:00 and 2014-09-07 00:00:00\n",
            "INFO:fbprophet:Applying in parallel with <concurrent.futures.process.ProcessPoolExecutor object at 0x7f16335e9990>\n",
            "INFO:fbprophet:Disabling yearly seasonality. Run prophet with yearly_seasonality=True to override this.\n",
            "INFO:fbprophet:Disabling daily seasonality. Run prophet with daily_seasonality=True to override this.\n",
            "INFO:fbprophet:Making 4 forecasts with cutoffs between 2013-12-11 00:00:00 and 2014-09-07 00:00:00\n",
            "INFO:fbprophet:Applying in parallel with <concurrent.futures.process.ProcessPoolExecutor object at 0x7f16337649d0>\n"
          ],
          "name": "stderr"
        },
        {
          "output_type": "stream",
          "text": [
            "    changepoint_prior_scale  ...         rmse\n",
            "0                      0.10  ... 1,421,352.99\n",
            "1                      0.10  ... 1,421,352.99\n",
            "2                      0.10  ... 1,421,352.99\n",
            "3                      0.10  ... 1,421,352.99\n",
            "4                      0.10  ... 1,421,352.99\n",
            "5                      0.10  ... 1,421,352.99\n",
            "6                      0.10  ... 1,421,352.99\n",
            "7                      0.10  ... 1,421,352.99\n",
            "8                      0.10  ... 1,421,352.99\n",
            "9                      0.50  ... 1,421,352.99\n",
            "10                     0.50  ... 1,421,352.99\n",
            "11                     0.50  ... 1,421,352.99\n",
            "12                     0.50  ... 1,421,352.99\n",
            "13                     0.50  ... 1,421,352.99\n",
            "14                     0.50  ... 1,421,352.99\n",
            "15                     0.50  ... 1,421,352.99\n",
            "16                     0.50  ... 1,421,352.99\n",
            "17                     0.50  ... 1,421,352.99\n",
            "18                     5.00  ... 1,421,352.99\n",
            "19                     5.00  ... 1,421,352.99\n",
            "20                     5.00  ... 1,421,352.99\n",
            "21                     5.00  ... 1,421,352.99\n",
            "22                     5.00  ... 1,421,352.99\n",
            "23                     5.00  ... 1,421,352.99\n",
            "24                     5.00  ... 1,421,352.99\n",
            "25                     5.00  ... 1,421,352.99\n",
            "26                     5.00  ... 1,421,352.99\n",
            "\n",
            "[27 rows x 4 columns]\n"
          ],
          "name": "stdout"
        }
      ]
    },
    {
      "cell_type": "code",
      "metadata": {
        "colab": {
          "base_uri": "https://localhost:8080/"
        },
        "id": "jeURn5a5GxPX",
        "outputId": "f70c1aca-1c19-4bf2-aec2-6a9f9472311e"
      },
      "source": [
        "best_params = all_params[np.argmin(rmses)]\n",
        "print(best_params)"
      ],
      "execution_count": 23,
      "outputs": [
        {
          "output_type": "stream",
          "text": [
            "{'changepoint_prior_scale': 0.1, 'seasonality_prior_scale': 0.1, 'holidays_prior_scale': 0.1}\n"
          ],
          "name": "stdout"
        }
      ]
    },
    {
      "cell_type": "markdown",
      "metadata": {
        "id": "KcOH3QgUkkRs"
      },
      "source": [
        "5.2) Re-running the Model with Optimized Parameters & Removing Outliers"
      ]
    },
    {
      "cell_type": "code",
      "metadata": {
        "id": "QK7dGvX8daKg"
      },
      "source": [
        "p1 = Prophet(changepoint_prior_scale=0.1, seasonality_prior_scale= 0.1, holidays_prior_scale= 0.1, \n",
        "             daily_seasonality=True, yearly_seasonality=True, seasonality_mode='multiplicative', interval_width=0.9)\n",
        "p1_model = p1.fit(df_train)"
      ],
      "execution_count": 24,
      "outputs": []
    },
    {
      "cell_type": "code",
      "metadata": {
        "id": "5RZKM8pOdnzc"
      },
      "source": [
        "future_p1_df = p1.make_future_dataframe(periods=236, freq='D')\n",
        "forecast1 = p1.predict(future_p1_df)"
      ],
      "execution_count": 25,
      "outputs": []
    },
    {
      "cell_type": "code",
      "metadata": {
        "colab": {
          "base_uri": "https://localhost:8080/",
          "height": 490,
          "referenced_widgets": [
            "c443be9f9de5485fa9110ccf148e9efd",
            "5994f531488c407682746ae9518e58e1",
            "f9a6ccfd9d9042659b4024a2d3863537",
            "903b31a3d0354cb6b59810d67ba772b6",
            "3b7f2596d2c5413283ce3e8926ad7061",
            "119d73f6d5ee4c2d99da2fc5da137808",
            "417423f1d2b247ea8141c134513fe69b",
            "febd924ff38f451c96e77e602491f45e"
          ]
        },
        "id": "_iGxOP4TbTbh",
        "outputId": "5f90e8b6-1cfe-4c4a-9b4b-59d03cdf67e8"
      },
      "source": [
        "#cross validation\n",
        "p1_cv = cross_validation(p1, initial='614 days', period='90 days', horizon = '90 days')\n",
        "df_p1 = performance_metrics(p1_cv)\n",
        "df_p1"
      ],
      "execution_count": 26,
      "outputs": [
        {
          "output_type": "stream",
          "text": [
            "INFO:fbprophet:Making 1 forecasts with cutoffs between 2014-09-07 00:00:00 and 2014-09-07 00:00:00\n"
          ],
          "name": "stderr"
        },
        {
          "output_type": "display_data",
          "data": {
            "application/vnd.jupyter.widget-view+json": {
              "model_id": "c443be9f9de5485fa9110ccf148e9efd",
              "version_minor": 0,
              "version_major": 2
            },
            "text/plain": [
              "HBox(children=(FloatProgress(value=0.0, max=1.0), HTML(value='')))"
            ]
          },
          "metadata": {
            "tags": []
          }
        },
        {
          "output_type": "stream",
          "text": [
            "\n"
          ],
          "name": "stdout"
        },
        {
          "output_type": "execute_result",
          "data": {
            "text/html": [
              "<div>\n",
              "<style scoped>\n",
              "    .dataframe tbody tr th:only-of-type {\n",
              "        vertical-align: middle;\n",
              "    }\n",
              "\n",
              "    .dataframe tbody tr th {\n",
              "        vertical-align: top;\n",
              "    }\n",
              "\n",
              "    .dataframe thead th {\n",
              "        text-align: right;\n",
              "    }\n",
              "</style>\n",
              "<table border=\"1\" class=\"dataframe\">\n",
              "  <thead>\n",
              "    <tr style=\"text-align: right;\">\n",
              "      <th></th>\n",
              "      <th>horizon</th>\n",
              "      <th>mse</th>\n",
              "      <th>rmse</th>\n",
              "      <th>mae</th>\n",
              "      <th>mape</th>\n",
              "      <th>mdape</th>\n",
              "      <th>coverage</th>\n",
              "    </tr>\n",
              "  </thead>\n",
              "  <tbody>\n",
              "    <tr>\n",
              "      <th>0</th>\n",
              "      <td>9 days</td>\n",
              "      <td>1,615,175,220,321.06</td>\n",
              "      <td>1,270,895.44</td>\n",
              "      <td>1,076,682.77</td>\n",
              "      <td>0.25</td>\n",
              "      <td>0.26</td>\n",
              "      <td>1.00</td>\n",
              "    </tr>\n",
              "    <tr>\n",
              "      <th>1</th>\n",
              "      <td>10 days</td>\n",
              "      <td>1,045,224,634,160.47</td>\n",
              "      <td>1,022,362.28</td>\n",
              "      <td>836,592.59</td>\n",
              "      <td>0.21</td>\n",
              "      <td>0.19</td>\n",
              "      <td>1.00</td>\n",
              "    </tr>\n",
              "    <tr>\n",
              "      <th>2</th>\n",
              "      <td>11 days</td>\n",
              "      <td>709,141,993,859.56</td>\n",
              "      <td>842,105.69</td>\n",
              "      <td>650,249.75</td>\n",
              "      <td>0.17</td>\n",
              "      <td>0.15</td>\n",
              "      <td>1.00</td>\n",
              "    </tr>\n",
              "    <tr>\n",
              "      <th>3</th>\n",
              "      <td>12 days</td>\n",
              "      <td>526,186,089,976.30</td>\n",
              "      <td>725,386.86</td>\n",
              "      <td>549,075.81</td>\n",
              "      <td>0.15</td>\n",
              "      <td>0.09</td>\n",
              "      <td>1.00</td>\n",
              "    </tr>\n",
              "    <tr>\n",
              "      <th>4</th>\n",
              "      <td>13 days</td>\n",
              "      <td>523,075,683,894.68</td>\n",
              "      <td>723,239.71</td>\n",
              "      <td>547,538.36</td>\n",
              "      <td>0.15</td>\n",
              "      <td>0.09</td>\n",
              "      <td>1.00</td>\n",
              "    </tr>\n",
              "    <tr>\n",
              "      <th>...</th>\n",
              "      <td>...</td>\n",
              "      <td>...</td>\n",
              "      <td>...</td>\n",
              "      <td>...</td>\n",
              "      <td>...</td>\n",
              "      <td>...</td>\n",
              "      <td>...</td>\n",
              "    </tr>\n",
              "    <tr>\n",
              "      <th>77</th>\n",
              "      <td>86 days</td>\n",
              "      <td>587,154,547,682.66</td>\n",
              "      <td>766,260.10</td>\n",
              "      <td>668,277.50</td>\n",
              "      <td>0.58</td>\n",
              "      <td>0.07</td>\n",
              "      <td>1.00</td>\n",
              "    </tr>\n",
              "    <tr>\n",
              "      <th>78</th>\n",
              "      <td>87 days</td>\n",
              "      <td>550,715,921,600.67</td>\n",
              "      <td>742,102.37</td>\n",
              "      <td>621,127.98</td>\n",
              "      <td>0.58</td>\n",
              "      <td>0.05</td>\n",
              "      <td>1.00</td>\n",
              "    </tr>\n",
              "    <tr>\n",
              "      <th>79</th>\n",
              "      <td>88 days</td>\n",
              "      <td>591,663,529,068.06</td>\n",
              "      <td>769,196.68</td>\n",
              "      <td>665,780.25</td>\n",
              "      <td>0.58</td>\n",
              "      <td>0.08</td>\n",
              "      <td>1.00</td>\n",
              "    </tr>\n",
              "    <tr>\n",
              "      <th>80</th>\n",
              "      <td>89 days</td>\n",
              "      <td>738,218,055,403.62</td>\n",
              "      <td>859,196.17</td>\n",
              "      <td>771,419.02</td>\n",
              "      <td>0.59</td>\n",
              "      <td>0.09</td>\n",
              "      <td>1.00</td>\n",
              "    </tr>\n",
              "    <tr>\n",
              "      <th>81</th>\n",
              "      <td>90 days</td>\n",
              "      <td>830,164,911,990.76</td>\n",
              "      <td>911,133.86</td>\n",
              "      <td>819,897.92</td>\n",
              "      <td>0.60</td>\n",
              "      <td>0.10</td>\n",
              "      <td>1.00</td>\n",
              "    </tr>\n",
              "  </tbody>\n",
              "</table>\n",
              "<p>82 rows × 7 columns</p>\n",
              "</div>"
            ],
            "text/plain": [
              "   horizon                  mse         rmse  ...  mape  mdape  coverage\n",
              "0   9 days 1,615,175,220,321.06 1,270,895.44  ...  0.25   0.26      1.00\n",
              "1  10 days 1,045,224,634,160.47 1,022,362.28  ...  0.21   0.19      1.00\n",
              "2  11 days   709,141,993,859.56   842,105.69  ...  0.17   0.15      1.00\n",
              "3  12 days   526,186,089,976.30   725,386.86  ...  0.15   0.09      1.00\n",
              "4  13 days   523,075,683,894.68   723,239.71  ...  0.15   0.09      1.00\n",
              "..     ...                  ...          ...  ...   ...    ...       ...\n",
              "77 86 days   587,154,547,682.66   766,260.10  ...  0.58   0.07      1.00\n",
              "78 87 days   550,715,921,600.67   742,102.37  ...  0.58   0.05      1.00\n",
              "79 88 days   591,663,529,068.06   769,196.68  ...  0.58   0.08      1.00\n",
              "80 89 days   738,218,055,403.62   859,196.17  ...  0.59   0.09      1.00\n",
              "81 90 days   830,164,911,990.76   911,133.86  ...  0.60   0.10      1.00\n",
              "\n",
              "[82 rows x 7 columns]"
            ]
          },
          "metadata": {
            "tags": []
          },
          "execution_count": 26
        }
      ]
    },
    {
      "cell_type": "code",
      "metadata": {
        "colab": {
          "base_uri": "https://localhost:8080/"
        },
        "id": "GyaRcuO5bsXP",
        "outputId": "24620232-c72b-4d75-ef26-0df8a27ee5ee"
      },
      "source": [
        "print('Avg RMSE score:', round(df_p1['rmse'].mean(), 3))\n",
        "print('Avg MAPE score:', round(df_p1['mape'].mean(), 3))"
      ],
      "execution_count": 27,
      "outputs": [
        {
          "output_type": "stream",
          "text": [
            "Avg RMSE score: 1192365.285\n",
            "Avg MAPE score: 0.564\n"
          ],
          "name": "stdout"
        }
      ]
    },
    {
      "cell_type": "markdown",
      "metadata": {
        "id": "NiJywf3GoPJy"
      },
      "source": [
        "5.3) Devitions against Original Data"
      ]
    },
    {
      "cell_type": "code",
      "metadata": {
        "colab": {
          "base_uri": "https://localhost:8080/",
          "height": 206
        },
        "id": "K6Tx91G8eHzE",
        "outputId": "97d45134-5a84-452b-bedf-ab93ec830206"
      },
      "source": [
        "#seeing the actual price prediction\n",
        "future_preds1 = forecast1.loc[forecast['ds'] > '2014-12-05']\n",
        "future_preds1 = future_preds1[['ds','yhat','yhat_lower','yhat_upper']]\n",
        "future_preds1.head()"
      ],
      "execution_count": 106,
      "outputs": [
        {
          "output_type": "execute_result",
          "data": {
            "text/html": [
              "<div>\n",
              "<style scoped>\n",
              "    .dataframe tbody tr th:only-of-type {\n",
              "        vertical-align: middle;\n",
              "    }\n",
              "\n",
              "    .dataframe tbody tr th {\n",
              "        vertical-align: top;\n",
              "    }\n",
              "\n",
              "    .dataframe thead th {\n",
              "        text-align: right;\n",
              "    }\n",
              "</style>\n",
              "<table border=\"1\" class=\"dataframe\">\n",
              "  <thead>\n",
              "    <tr style=\"text-align: right;\">\n",
              "      <th></th>\n",
              "      <th>ds</th>\n",
              "      <th>yhat</th>\n",
              "      <th>yhat_lower</th>\n",
              "      <th>yhat_upper</th>\n",
              "    </tr>\n",
              "  </thead>\n",
              "  <tbody>\n",
              "    <tr>\n",
              "      <th>704</th>\n",
              "      <td>2014-12-06</td>\n",
              "      <td>7,461,034.66</td>\n",
              "      <td>4,650,491.19</td>\n",
              "      <td>10,239,187.35</td>\n",
              "    </tr>\n",
              "    <tr>\n",
              "      <th>705</th>\n",
              "      <td>2014-12-07</td>\n",
              "      <td>2,032,077.18</td>\n",
              "      <td>-693,328.50</td>\n",
              "      <td>4,882,840.60</td>\n",
              "    </tr>\n",
              "    <tr>\n",
              "      <th>706</th>\n",
              "      <td>2014-12-08</td>\n",
              "      <td>9,549,886.19</td>\n",
              "      <td>6,727,295.26</td>\n",
              "      <td>12,310,886.36</td>\n",
              "    </tr>\n",
              "    <tr>\n",
              "      <th>707</th>\n",
              "      <td>2014-12-09</td>\n",
              "      <td>8,687,453.99</td>\n",
              "      <td>5,805,550.97</td>\n",
              "      <td>11,399,528.68</td>\n",
              "    </tr>\n",
              "    <tr>\n",
              "      <th>708</th>\n",
              "      <td>2014-12-10</td>\n",
              "      <td>8,283,779.89</td>\n",
              "      <td>5,301,224.21</td>\n",
              "      <td>10,925,674.48</td>\n",
              "    </tr>\n",
              "  </tbody>\n",
              "</table>\n",
              "</div>"
            ],
            "text/plain": [
              "            ds         yhat   yhat_lower    yhat_upper\n",
              "704 2014-12-06 7,461,034.66 4,650,491.19 10,239,187.35\n",
              "705 2014-12-07 2,032,077.18  -693,328.50  4,882,840.60\n",
              "706 2014-12-08 9,549,886.19 6,727,295.26 12,310,886.36\n",
              "707 2014-12-09 8,687,453.99 5,805,550.97 11,399,528.68\n",
              "708 2014-12-10 8,283,779.89 5,301,224.21 10,925,674.48"
            ]
          },
          "metadata": {
            "tags": []
          },
          "execution_count": 106
        }
      ]
    },
    {
      "cell_type": "code",
      "metadata": {
        "colab": {
          "base_uri": "https://localhost:8080/",
          "height": 206
        },
        "id": "SzAhfd7vgSo-",
        "outputId": "53dd205c-28a4-40d7-aec4-4dad4c8b8259"
      },
      "source": [
        "comp = future_preds1.merge(salbydate, how='inner', on='ds')\n",
        "comp['y'] = comp['y'].astype('float')\n",
        "comp['abs dev'] = comp['yhat']-comp['y']\n",
        "comp['% dev'] = (comp['yhat']-comp['y'])/comp['y']\n",
        "comp.head()"
      ],
      "execution_count": 29,
      "outputs": [
        {
          "output_type": "execute_result",
          "data": {
            "text/html": [
              "<div>\n",
              "<style scoped>\n",
              "    .dataframe tbody tr th:only-of-type {\n",
              "        vertical-align: middle;\n",
              "    }\n",
              "\n",
              "    .dataframe tbody tr th {\n",
              "        vertical-align: top;\n",
              "    }\n",
              "\n",
              "    .dataframe thead th {\n",
              "        text-align: right;\n",
              "    }\n",
              "</style>\n",
              "<table border=\"1\" class=\"dataframe\">\n",
              "  <thead>\n",
              "    <tr style=\"text-align: right;\">\n",
              "      <th></th>\n",
              "      <th>ds</th>\n",
              "      <th>yhat</th>\n",
              "      <th>yhat_lower</th>\n",
              "      <th>yhat_upper</th>\n",
              "      <th>y</th>\n",
              "      <th>abs dev</th>\n",
              "      <th>% dev</th>\n",
              "    </tr>\n",
              "  </thead>\n",
              "  <tbody>\n",
              "    <tr>\n",
              "      <th>0</th>\n",
              "      <td>2014-12-06</td>\n",
              "      <td>7,461,034.66</td>\n",
              "      <td>4,650,491.19</td>\n",
              "      <td>10,239,187.35</td>\n",
              "      <td>6,479,401.00</td>\n",
              "      <td>981,633.66</td>\n",
              "      <td>0.15</td>\n",
              "    </tr>\n",
              "    <tr>\n",
              "      <th>1</th>\n",
              "      <td>2014-12-07</td>\n",
              "      <td>2,032,077.18</td>\n",
              "      <td>-693,328.50</td>\n",
              "      <td>4,882,840.60</td>\n",
              "      <td>196,469.00</td>\n",
              "      <td>1,835,608.18</td>\n",
              "      <td>9.34</td>\n",
              "    </tr>\n",
              "    <tr>\n",
              "      <th>2</th>\n",
              "      <td>2014-12-08</td>\n",
              "      <td>9,549,886.19</td>\n",
              "      <td>6,727,295.26</td>\n",
              "      <td>12,310,886.36</td>\n",
              "      <td>6,560,015.00</td>\n",
              "      <td>2,989,871.19</td>\n",
              "      <td>0.46</td>\n",
              "    </tr>\n",
              "    <tr>\n",
              "      <th>3</th>\n",
              "      <td>2014-12-09</td>\n",
              "      <td>8,687,453.99</td>\n",
              "      <td>5,805,550.97</td>\n",
              "      <td>11,399,528.68</td>\n",
              "      <td>6,329,729.00</td>\n",
              "      <td>2,357,724.99</td>\n",
              "      <td>0.37</td>\n",
              "    </tr>\n",
              "    <tr>\n",
              "      <th>4</th>\n",
              "      <td>2014-12-10</td>\n",
              "      <td>8,283,779.89</td>\n",
              "      <td>5,301,224.21</td>\n",
              "      <td>10,925,674.48</td>\n",
              "      <td>5,909,802.00</td>\n",
              "      <td>2,373,977.89</td>\n",
              "      <td>0.40</td>\n",
              "    </tr>\n",
              "  </tbody>\n",
              "</table>\n",
              "</div>"
            ],
            "text/plain": [
              "          ds         yhat   yhat_lower  ...            y      abs dev  % dev\n",
              "0 2014-12-06 7,461,034.66 4,650,491.19  ... 6,479,401.00   981,633.66   0.15\n",
              "1 2014-12-07 2,032,077.18  -693,328.50  ...   196,469.00 1,835,608.18   9.34\n",
              "2 2014-12-08 9,549,886.19 6,727,295.26  ... 6,560,015.00 2,989,871.19   0.46\n",
              "3 2014-12-09 8,687,453.99 5,805,550.97  ... 6,329,729.00 2,357,724.99   0.37\n",
              "4 2014-12-10 8,283,779.89 5,301,224.21  ... 5,909,802.00 2,373,977.89   0.40\n",
              "\n",
              "[5 rows x 7 columns]"
            ]
          },
          "metadata": {
            "tags": []
          },
          "execution_count": 29
        }
      ]
    },
    {
      "cell_type": "markdown",
      "metadata": {
        "id": "RxSUUi_ipIeq"
      },
      "source": [
        "##6) Assigning Sales back to Store Level"
      ]
    },
    {
      "cell_type": "markdown",
      "metadata": {
        "id": "4Oog8kpBpj-5"
      },
      "source": [
        "6.1) Merging Store & Train Datset"
      ]
    },
    {
      "cell_type": "code",
      "metadata": {
        "colab": {
          "base_uri": "https://localhost:8080/",
          "height": 330
        },
        "id": "4jS4bKfSpHzu",
        "outputId": "b1dbd0fc-79cd-42b7-ce5b-8a72d2da85db"
      },
      "source": [
        "dfall = train.merge(store, left_on='Store', right_on='Store').sort_values(['Date'], ascending=True)\n",
        "print(\"length/ features :\", dfall.shape)\n",
        "dfall.head()"
      ],
      "execution_count": 38,
      "outputs": [
        {
          "output_type": "stream",
          "text": [
            "length/ features : (1017209, 18)\n"
          ],
          "name": "stdout"
        },
        {
          "output_type": "execute_result",
          "data": {
            "text/html": [
              "<div>\n",
              "<style scoped>\n",
              "    .dataframe tbody tr th:only-of-type {\n",
              "        vertical-align: middle;\n",
              "    }\n",
              "\n",
              "    .dataframe tbody tr th {\n",
              "        vertical-align: top;\n",
              "    }\n",
              "\n",
              "    .dataframe thead th {\n",
              "        text-align: right;\n",
              "    }\n",
              "</style>\n",
              "<table border=\"1\" class=\"dataframe\">\n",
              "  <thead>\n",
              "    <tr style=\"text-align: right;\">\n",
              "      <th></th>\n",
              "      <th>Store</th>\n",
              "      <th>DayOfWeek</th>\n",
              "      <th>Date</th>\n",
              "      <th>Sales</th>\n",
              "      <th>Customers</th>\n",
              "      <th>Open</th>\n",
              "      <th>Promo</th>\n",
              "      <th>StateHoliday</th>\n",
              "      <th>SchoolHoliday</th>\n",
              "      <th>StoreType</th>\n",
              "      <th>Assortment</th>\n",
              "      <th>CompetitionDistance</th>\n",
              "      <th>CompetitionOpenSinceMonth</th>\n",
              "      <th>CompetitionOpenSinceYear</th>\n",
              "      <th>Promo2</th>\n",
              "      <th>Promo2SinceWeek</th>\n",
              "      <th>Promo2SinceYear</th>\n",
              "      <th>PromoInterval</th>\n",
              "    </tr>\n",
              "  </thead>\n",
              "  <tbody>\n",
              "    <tr>\n",
              "      <th>1017208</th>\n",
              "      <td>1115</td>\n",
              "      <td>2</td>\n",
              "      <td>2013-01-01</td>\n",
              "      <td>0</td>\n",
              "      <td>0</td>\n",
              "      <td>0</td>\n",
              "      <td>0</td>\n",
              "      <td>a</td>\n",
              "      <td>1</td>\n",
              "      <td>d</td>\n",
              "      <td>c</td>\n",
              "      <td>5,350.00</td>\n",
              "      <td>nan</td>\n",
              "      <td>nan</td>\n",
              "      <td>1</td>\n",
              "      <td>22.00</td>\n",
              "      <td>2,012.00</td>\n",
              "      <td>Mar,Jun,Sept,Dec</td>\n",
              "    </tr>\n",
              "    <tr>\n",
              "      <th>679363</th>\n",
              "      <td>746</td>\n",
              "      <td>2</td>\n",
              "      <td>2013-01-01</td>\n",
              "      <td>0</td>\n",
              "      <td>0</td>\n",
              "      <td>0</td>\n",
              "      <td>0</td>\n",
              "      <td>a</td>\n",
              "      <td>1</td>\n",
              "      <td>d</td>\n",
              "      <td>c</td>\n",
              "      <td>4,330.00</td>\n",
              "      <td>2.00</td>\n",
              "      <td>2,011.00</td>\n",
              "      <td>1</td>\n",
              "      <td>35.00</td>\n",
              "      <td>2,011.00</td>\n",
              "      <td>Mar,Jun,Sept,Dec</td>\n",
              "    </tr>\n",
              "    <tr>\n",
              "      <th>155193</th>\n",
              "      <td>171</td>\n",
              "      <td>2</td>\n",
              "      <td>2013-01-01</td>\n",
              "      <td>0</td>\n",
              "      <td>0</td>\n",
              "      <td>0</td>\n",
              "      <td>0</td>\n",
              "      <td>a</td>\n",
              "      <td>1</td>\n",
              "      <td>a</td>\n",
              "      <td>a</td>\n",
              "      <td>2,640.00</td>\n",
              "      <td>nan</td>\n",
              "      <td>nan</td>\n",
              "      <td>0</td>\n",
              "      <td>nan</td>\n",
              "      <td>nan</td>\n",
              "      <td>NaN</td>\n",
              "    </tr>\n",
              "    <tr>\n",
              "      <th>632403</th>\n",
              "      <td>694</td>\n",
              "      <td>2</td>\n",
              "      <td>2013-01-01</td>\n",
              "      <td>0</td>\n",
              "      <td>0</td>\n",
              "      <td>0</td>\n",
              "      <td>0</td>\n",
              "      <td>a</td>\n",
              "      <td>1</td>\n",
              "      <td>a</td>\n",
              "      <td>c</td>\n",
              "      <td>460.00</td>\n",
              "      <td>11.00</td>\n",
              "      <td>2,012.00</td>\n",
              "      <td>1</td>\n",
              "      <td>40.00</td>\n",
              "      <td>2,014.00</td>\n",
              "      <td>Jan,Apr,Jul,Oct</td>\n",
              "    </tr>\n",
              "    <tr>\n",
              "      <th>361623</th>\n",
              "      <td>396</td>\n",
              "      <td>2</td>\n",
              "      <td>2013-01-01</td>\n",
              "      <td>0</td>\n",
              "      <td>0</td>\n",
              "      <td>0</td>\n",
              "      <td>0</td>\n",
              "      <td>a</td>\n",
              "      <td>1</td>\n",
              "      <td>a</td>\n",
              "      <td>c</td>\n",
              "      <td>23,130.00</td>\n",
              "      <td>nan</td>\n",
              "      <td>nan</td>\n",
              "      <td>0</td>\n",
              "      <td>nan</td>\n",
              "      <td>nan</td>\n",
              "      <td>NaN</td>\n",
              "    </tr>\n",
              "  </tbody>\n",
              "</table>\n",
              "</div>"
            ],
            "text/plain": [
              "         Store  DayOfWeek  ... Promo2SinceYear     PromoInterval\n",
              "1017208   1115          2  ...        2,012.00  Mar,Jun,Sept,Dec\n",
              "679363     746          2  ...        2,011.00  Mar,Jun,Sept,Dec\n",
              "155193     171          2  ...             nan               NaN\n",
              "632403     694          2  ...        2,014.00   Jan,Apr,Jul,Oct\n",
              "361623     396          2  ...             nan               NaN\n",
              "\n",
              "[5 rows x 18 columns]"
            ]
          },
          "metadata": {
            "tags": []
          },
          "execution_count": 38
        }
      ]
    },
    {
      "cell_type": "code",
      "metadata": {
        "colab": {
          "base_uri": "https://localhost:8080/",
          "height": 112
        },
        "id": "mqhxf1pApwhH",
        "outputId": "5e7cea70-298a-4e78-a945-64588e2b50b0"
      },
      "source": [
        "#aggregating sales by date\n",
        "salbystore = pd.pivot_table(train,index=['Store'],values=['Sales'],aggfunc=sum).reset_index()\n",
        "salbystore['% of ttl in pct'] = salbystore['Sales']/salbystore['Sales'].sum()*100\n",
        "salbystore.head(2)"
      ],
      "execution_count": 47,
      "outputs": [
        {
          "output_type": "execute_result",
          "data": {
            "text/html": [
              "<div>\n",
              "<style scoped>\n",
              "    .dataframe tbody tr th:only-of-type {\n",
              "        vertical-align: middle;\n",
              "    }\n",
              "\n",
              "    .dataframe tbody tr th {\n",
              "        vertical-align: top;\n",
              "    }\n",
              "\n",
              "    .dataframe thead th {\n",
              "        text-align: right;\n",
              "    }\n",
              "</style>\n",
              "<table border=\"1\" class=\"dataframe\">\n",
              "  <thead>\n",
              "    <tr style=\"text-align: right;\">\n",
              "      <th></th>\n",
              "      <th>Store</th>\n",
              "      <th>Sales</th>\n",
              "      <th>% of ttl in pct</th>\n",
              "    </tr>\n",
              "  </thead>\n",
              "  <tbody>\n",
              "    <tr>\n",
              "      <th>0</th>\n",
              "      <td>1</td>\n",
              "      <td>3716854</td>\n",
              "      <td>0.06</td>\n",
              "    </tr>\n",
              "    <tr>\n",
              "      <th>1</th>\n",
              "      <td>2</td>\n",
              "      <td>3883858</td>\n",
              "      <td>0.07</td>\n",
              "    </tr>\n",
              "  </tbody>\n",
              "</table>\n",
              "</div>"
            ],
            "text/plain": [
              "   Store    Sales  % of ttl in pct\n",
              "0      1  3716854             0.06\n",
              "1      2  3883858             0.07"
            ]
          },
          "metadata": {
            "tags": []
          },
          "execution_count": 47
        }
      ]
    },
    {
      "cell_type": "code",
      "metadata": {
        "colab": {
          "base_uri": "https://localhost:8080/",
          "height": 363
        },
        "id": "SuMCMZdlq5s8",
        "outputId": "88713383-317b-4293-fa6a-8d8e42e62eb2"
      },
      "source": [
        "c_filter = comp[['ds', 'yhat']]\n",
        "s_filter = salbystore[['Store', '% of ttl in pct']]\n",
        "d_filter = dfall.loc[(dfall['Date']> '2014-12-05') & (dfall['Date']< '2015-07-31')]\n",
        "df1 = d_filter[['Store', 'Date', 'DayOfWeek', 'Sales']].sort_values(['Date', 'Store'])\n",
        "df1 = df1.merge(c_filter, how='left', left_on='Date', right_on='ds').drop(['ds'], axis=1)\n",
        "df1 = df1.merge(s_filter, how='left', left_on='Store', right_on='Store')\n",
        "df1['Predicted Sales'] = df1['yhat']*(df1['% of ttl in pct']/100)\n",
        "df1['pct deviation'] = (df1['Predicted Sales']-df1['Sales'])/df1['Sales']\n",
        "df1 = df1.drop(['yhat', '% of ttl in pct'], axis=1)\n",
        "df1.sample(10)"
      ],
      "execution_count": 111,
      "outputs": [
        {
          "output_type": "execute_result",
          "data": {
            "text/html": [
              "<div>\n",
              "<style scoped>\n",
              "    .dataframe tbody tr th:only-of-type {\n",
              "        vertical-align: middle;\n",
              "    }\n",
              "\n",
              "    .dataframe tbody tr th {\n",
              "        vertical-align: top;\n",
              "    }\n",
              "\n",
              "    .dataframe thead th {\n",
              "        text-align: right;\n",
              "    }\n",
              "</style>\n",
              "<table border=\"1\" class=\"dataframe\">\n",
              "  <thead>\n",
              "    <tr style=\"text-align: right;\">\n",
              "      <th></th>\n",
              "      <th>Store</th>\n",
              "      <th>Date</th>\n",
              "      <th>DayOfWeek</th>\n",
              "      <th>Sales</th>\n",
              "      <th>Predicted Sales</th>\n",
              "      <th>pct deviation</th>\n",
              "    </tr>\n",
              "  </thead>\n",
              "  <tbody>\n",
              "    <tr>\n",
              "      <th>151591</th>\n",
              "      <td>172</td>\n",
              "      <td>2015-04-25</td>\n",
              "      <td>6</td>\n",
              "      <td>7127</td>\n",
              "      <td>3,993.50</td>\n",
              "      <td>-0.44</td>\n",
              "    </tr>\n",
              "    <tr>\n",
              "      <th>224312</th>\n",
              "      <td>418</td>\n",
              "      <td>2015-06-29</td>\n",
              "      <td>1</td>\n",
              "      <td>8901</td>\n",
              "      <td>4,959.01</td>\n",
              "      <td>-0.44</td>\n",
              "    </tr>\n",
              "    <tr>\n",
              "      <th>256764</th>\n",
              "      <td>535</td>\n",
              "      <td>2015-07-28</td>\n",
              "      <td>2</td>\n",
              "      <td>9565</td>\n",
              "      <td>6,677.05</td>\n",
              "      <td>-0.30</td>\n",
              "    </tr>\n",
              "    <tr>\n",
              "      <th>92015</th>\n",
              "      <td>806</td>\n",
              "      <td>2015-03-02</td>\n",
              "      <td>1</td>\n",
              "      <td>10190</td>\n",
              "      <td>5,468.96</td>\n",
              "      <td>-0.46</td>\n",
              "    </tr>\n",
              "    <tr>\n",
              "      <th>112101</th>\n",
              "      <td>822</td>\n",
              "      <td>2015-03-20</td>\n",
              "      <td>5</td>\n",
              "      <td>8772</td>\n",
              "      <td>6,816.94</td>\n",
              "      <td>-0.22</td>\n",
              "    </tr>\n",
              "    <tr>\n",
              "      <th>147238</th>\n",
              "      <td>279</td>\n",
              "      <td>2015-04-21</td>\n",
              "      <td>2</td>\n",
              "      <td>5910</td>\n",
              "      <td>6,026.72</td>\n",
              "      <td>0.02</td>\n",
              "    </tr>\n",
              "    <tr>\n",
              "      <th>119466</th>\n",
              "      <td>382</td>\n",
              "      <td>2015-03-27</td>\n",
              "      <td>5</td>\n",
              "      <td>7254</td>\n",
              "      <td>7,031.79</td>\n",
              "      <td>-0.03</td>\n",
              "    </tr>\n",
              "    <tr>\n",
              "      <th>50834</th>\n",
              "      <td>880</td>\n",
              "      <td>2015-01-24</td>\n",
              "      <td>6</td>\n",
              "      <td>6187</td>\n",
              "      <td>5,688.90</td>\n",
              "      <td>-0.08</td>\n",
              "    </tr>\n",
              "    <tr>\n",
              "      <th>47810</th>\n",
              "      <td>86</td>\n",
              "      <td>2015-01-22</td>\n",
              "      <td>4</td>\n",
              "      <td>3487</td>\n",
              "      <td>3,818.30</td>\n",
              "      <td>0.10</td>\n",
              "    </tr>\n",
              "    <tr>\n",
              "      <th>42955</th>\n",
              "      <td>806</td>\n",
              "      <td>2015-01-17</td>\n",
              "      <td>6</td>\n",
              "      <td>6283</td>\n",
              "      <td>3,932.73</td>\n",
              "      <td>-0.37</td>\n",
              "    </tr>\n",
              "  </tbody>\n",
              "</table>\n",
              "</div>"
            ],
            "text/plain": [
              "        Store       Date  DayOfWeek  Sales  Predicted Sales  pct deviation\n",
              "151591    172 2015-04-25          6   7127         3,993.50          -0.44\n",
              "224312    418 2015-06-29          1   8901         4,959.01          -0.44\n",
              "256764    535 2015-07-28          2   9565         6,677.05          -0.30\n",
              "92015     806 2015-03-02          1  10190         5,468.96          -0.46\n",
              "112101    822 2015-03-20          5   8772         6,816.94          -0.22\n",
              "147238    279 2015-04-21          2   5910         6,026.72           0.02\n",
              "119466    382 2015-03-27          5   7254         7,031.79          -0.03\n",
              "50834     880 2015-01-24          6   6187         5,688.90          -0.08\n",
              "47810      86 2015-01-22          4   3487         3,818.30           0.10\n",
              "42955     806 2015-01-17          6   6283         3,932.73          -0.37"
            ]
          },
          "metadata": {
            "tags": []
          },
          "execution_count": 111
        }
      ]
    }
  ]
}